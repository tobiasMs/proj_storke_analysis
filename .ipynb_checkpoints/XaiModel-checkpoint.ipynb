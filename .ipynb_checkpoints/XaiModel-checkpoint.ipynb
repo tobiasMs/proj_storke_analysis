{
 "cells": [
  {
   "cell_type": "code",
   "execution_count": null,
   "id": "7be19311-ad21-425a-88d7-47a4f128ae49",
   "metadata": {},
   "outputs": [],
   "source": [
    "# Pred"
   ]
  },
  {
   "cell_type": "code",
   "execution_count": null,
   "id": "61730fa4-283e-482a-87a9-0011f87f0c5d",
   "metadata": {},
   "outputs": [],
   "source": []
  }
 ],
 "metadata": {
  "kernelspec": {
   "display_name": "Python [conda env:base] *",
   "language": "python",
   "name": "conda-base-py"
  },
  "language_info": {
   "codemirror_mode": {
    "name": "ipython",
    "version": 3
   },
   "file_extension": ".py",
   "mimetype": "text/x-python",
   "name": "python",
   "nbconvert_exporter": "python",
   "pygments_lexer": "ipython3",
   "version": "3.12.7"
  }
 },
 "nbformat": 4,
 "nbformat_minor": 5
}
